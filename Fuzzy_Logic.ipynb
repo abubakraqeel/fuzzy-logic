{
 "cells": [
  {
   "cell_type": "markdown",
   "id": "24c4a7a6",
   "metadata": {},
   "source": [
    "# Fuzzy logic task"
   ]
  },
  {
   "cell_type": "markdown",
   "id": "79e404b2",
   "metadata": {},
   "source": [
    "Define a fuzzy controller for a distance to stop information system for cars.\n",
    "\n",
    "Also define the functions for each input, e. g. $$f_{light}(x) = min(2x, 1)$$\n",
    "Write everything with Python code and visualize your results!\n",
    "You can alternatively visualize it on paper.\n",
    "Use center of gravity to calculate the final result.\n",
    "\n",
    "The following information is provided:"
   ]
  },
  {
   "cell_type": "markdown",
   "id": "864c5e25",
   "metadata": {},
   "source": [
    "## Inputs"
   ]
  },
  {
   "cell_type": "markdown",
   "id": "707d9299",
   "metadata": {},
   "source": [
    "### 1. Speed of vehicle\n",
    "#### Set of terms\n",
    "- slow\n",
    "- medium\n",
    "- fast\n",
    "\n",
    "\n",
    "The terms are in range [0, 100]"
   ]
  },
  {
   "cell_type": "markdown",
   "id": "6d6df638",
   "metadata": {},
   "source": [
    "### 2. (Own) Car weight\n",
    "\n",
    "#### Set of terms\n",
    "- light\n",
    "- medium\n",
    "- heavy\n",
    "\n",
    "The terms are in range [0, 100]"
   ]
  },
  {
   "cell_type": "markdown",
   "id": "7a84c8a8",
   "metadata": {},
   "source": [
    "## Output\n",
    "\n",
    "### Distance to full stop\n",
    "\n",
    "#### Set of terms\n",
    "- very low\n",
    "- low\n",
    "- medium\n",
    "- high\n",
    "- very high \n",
    "\n",
    "The terms are in range [0, 3] ($\\times$10meters)"
   ]
  },
  {
   "cell_type": "markdown",
   "id": "afc47a5e",
   "metadata": {},
   "source": [
    "## Inference rules"
   ]
  },
  {
   "cell_type": "markdown",
   "id": "f1e6da6c",
   "metadata": {},
   "source": [
    "| Id \t| Speed \t| Car weight \t| Distance\t|\n",
    "|:---:\t|:---:\t|:---:\t|:---:\t|\n",
    "| 1 \t| slow \t| light \t| very low \t|\n",
    "| 2 \t| slow \t| medium \t| low \t|\n",
    "| 3 \t| slow \t| heavy \t| medium \t|\n",
    "| 4 \t| medium \t| light \t| low \t|\n",
    "| 5 \t| medium \t| medium \t| medium \t|\n",
    "| 6 \t| medium \t| heavy \t| high \t|\n",
    "| 7 \t| fast \t| light \t| medium \t|\n",
    "| 8 \t| fast \t| medium \t| high \t|\n",
    "| 9 \t| fast\t| heavy \t| very high \t|"
   ]
  },
  {
   "cell_type": "markdown",
   "id": "ce37456e",
   "metadata": {},
   "source": [
    "## Question"
   ]
  },
  {
   "cell_type": "markdown",
   "id": "0175194b",
   "metadata": {},
   "source": [
    "Calculate the distance to stop for\n",
    "\n",
    "1) Speed = 30\n",
    "\n",
    "2) Car weight = 60"
   ]
  },
  {
   "cell_type": "markdown",
   "id": "fa03b2be",
   "metadata": {},
   "source": [
    "# Possible solution"
   ]
  },
  {
   "cell_type": "markdown",
   "id": "d2cc1447",
   "metadata": {},
   "source": [
    "## Define functions for Input \"Speed\""
   ]
  },
  {
   "cell_type": "markdown",
   "id": "417d3e6f",
   "metadata": {},
   "source": [
    "We let \"slow\" range from [0, 50]\n",
    "\n",
    "We let \"medium\" range from [25, 75]\n",
    "\n",
    "We let \"fast\" range from [50, 100]"
   ]
  },
  {
   "cell_type": "markdown",
   "id": "050fc0bb",
   "metadata": {},
   "source": [
    "$$ S_{slow}(x) =   \\left\\{\n",
    "\\begin{array}{ll}\n",
    "      min(1, 2-\\frac{x}{25}) & for\\space x \\leq 50 \\\\\n",
    "      0 & else\\\\\n",
    "\\end{array} \n",
    "\\right. $$\n",
    "\n",
    "$$ S_{medium}(x) =   \\left\\{\n",
    "\\begin{array}{ll}\n",
    "      max(0, -1+\\frac{x}{25}) & for\\space x \\leq 50 \\\\\n",
    "      max(0, 3-\\frac{x}{25}) & for\\space x > 50 \\\\\n",
    "\\end{array} \n",
    "\\right. $$\n",
    "\n",
    "$$ S_{fast}(x) =   \\left\\{\n",
    "\\begin{array}{ll}\n",
    "      min(1, -2+\\frac{x}{25}) & for x \\geq 50 \\\\\n",
    "      0 & else\\\\\n",
    "\\end{array} \n",
    "\\right. $$"
   ]
  },
  {
   "cell_type": "markdown",
   "id": "6fcd2761",
   "metadata": {},
   "source": [
    "## Define functions for Input \"Car weight\"\n",
    "\n",
    "We let \"light\" range from [0, 50]\n",
    "\n",
    "We let \"medium\" range from [25, 75]\n",
    "\n",
    "We let \"heavy\" range from [50, 100]"
   ]
  },
  {
   "cell_type": "markdown",
   "id": "72887391",
   "metadata": {},
   "source": [
    "$$ C_{light} = S_{slow}$$\n",
    "\n",
    "$$ C_{medium} = S_{medium}$$\n",
    "\n",
    "$$ C_{heavy} = S_{fast}$$"
   ]
  },
  {
   "cell_type": "markdown",
   "id": "92c390e4",
   "metadata": {},
   "source": [
    "## Define functions for Output \"Distance\""
   ]
  },
  {
   "cell_type": "markdown",
   "id": "47d4d202",
   "metadata": {},
   "source": [
    "We let \"very low\" range from [0,1]\n",
    "\n",
    "We let \"low\" range from [0.5,1.5]\n",
    "\n",
    "We let \"medium\" range from [1,2]\n",
    "\n",
    "We let \"high\" range from [1.5,2.5]\n",
    "\n",
    "We let \"very high\" range from [2,3]"
   ]
  },
  {
   "cell_type": "markdown",
   "id": "71be4fe7",
   "metadata": {},
   "source": [
    "$$ D_{vuc} = \\left\\{\n",
    "\\begin{array}{ll}\n",
    "      min(1, 2-2x) & for\\space x \\leq 1 \\\\\n",
    "      0 & else\\\\\n",
    "\\end{array} \n",
    "\\right. $$\n",
    "\n",
    "$$ D_{uc} = \\left\\{\n",
    "\\begin{array}{ll}\n",
    "      max(0, 2x-1) & for\\space x \\leq 1\\\\\n",
    "      max(0, 3-2x) & for\\space x > 1\\\\\n",
    "\\end{array} \n",
    "\\right. $$\n",
    "\n",
    "$$ D_{m} = \\left\\{\n",
    "\\begin{array}{ll}\n",
    "      max(0, 2x-2) & for\\space x \\leq 1.5\\\\\n",
    "      max(0, 4-2x) & for\\space x > 1.5\\\\\n",
    "\\end{array} \n",
    "\\right. $$\n",
    "\n",
    "$$ D_{c} = \\left\\{\n",
    "\\begin{array}{ll}\n",
    "      max(0, 2x-3) & for\\space x \\leq 2\\\\\n",
    "      max(0, 5-2x) & for\\space x > 2\\\\\n",
    "\\end{array} \n",
    "\\right. $$\n",
    "\n",
    "$$ D_{vc} = \\left\\{\n",
    "\\begin{array}{ll}\n",
    "      min(1, 2x-4) & for\\space x \\geq 2 \\\\\n",
    "      0 & else\\\\\n",
    "\\end{array} \n",
    "\\right. $$"
   ]
  },
  {
   "cell_type": "markdown",
   "id": "c8cce7da",
   "metadata": {},
   "source": [
    "## Lets visualize it using matplotlib\n",
    "You probably need to install the package first"
   ]
  },
  {
   "cell_type": "code",
   "execution_count": 1,
   "id": "46f9a9eb",
   "metadata": {},
   "outputs": [],
   "source": [
    "import matplotlib.pyplot as plt"
   ]
  },
  {
   "cell_type": "code",
   "execution_count": 2,
   "id": "431aa6b3",
   "metadata": {},
   "outputs": [],
   "source": [
    "speed_slow = lambda x: min(1, 2-x/25) if x <= 50 else 0\n",
    "speed_medium = lambda x: max(0, -1+x/25) if x <= 50 else max(0, 3-x/25)\n",
    "speed_fast = lambda x: min(1, -2+x/25) if x >= 50 else 0"
   ]
  },
  {
   "cell_type": "code",
   "execution_count": 3,
   "id": "897fec29",
   "metadata": {},
   "outputs": [],
   "source": [
    "output_vl = lambda x: min(1, 2*(1-x)) if x >= 0 else 1\n",
    "output_l = lambda x: max(0, 2*x-1) if x <= 1 else max(0, 3-2*x)\n",
    "output_m = lambda x: max(0, 2*x-2) if x <= 1.5 else max(0, 4-2*x)\n",
    "output_h = lambda x: max(0, 2*x-3) if x <= 2 else max(0, 5-2*x)\n",
    "output_vh = lambda x: min(1, 2*x-4) if x >= 2 else 0"
   ]
  },
  {
   "cell_type": "markdown",
   "id": "a18b7309",
   "metadata": {},
   "source": [
    "#### Generate values for the defined functions"
   ]
  },
  {
   "cell_type": "code",
   "execution_count": 4,
   "id": "f9c18577",
   "metadata": {},
   "outputs": [],
   "source": [
    "rules = {\n",
    "    'slow_light': 'very_low',\n",
    "    'slow_medium': 'low',\n",
    "    'slow_heavy': 'medium',\n",
    "    'medium_light': 'low',\n",
    "    'medium_medium': 'medium',\n",
    "    'medium_heavy': 'high',\n",
    "    'fast_light': 'medium',\n",
    "    'fast_medium': 'high',\n",
    "    'fast_heavy': 'very_high'\n",
    "}\n",
    "\n",
    "rules_inf_fn = {\n",
    "    'slow_light': output_vl,\n",
    "    'slow_medium': output_l,\n",
    "    'slow_heavy': output_m,\n",
    "    'medium_light': output_l,\n",
    "    'medium_medium': output_m,\n",
    "    'medium_heavy': output_h,\n",
    "    'fast_light': output_m,\n",
    "    'fast_medium': output_h,\n",
    "    'fast_heavy': output_vh\n",
    "}"
   ]
  },
  {
   "cell_type": "code",
   "execution_count": 5,
   "id": "09789c96",
   "metadata": {},
   "outputs": [],
   "source": [
    "# distance fns\n",
    "speed_slow_vals = [speed_slow(x) for x in range(0, 101)]\n",
    "speed_medium_vals = [speed_medium(x) for x in range(0, 101)]\n",
    "speed_fast_vals = [speed_fast(x) for x in range(0, 101)]\n",
    "\n",
    "# car weight fns\n",
    "car_weight_light_vals = [speed_slow(x) for x in range(0, 101)]\n",
    "car_weight_medium_vals = [speed_medium(x) for x in range(0, 101)]\n",
    "car_weight_heavy_vals = [speed_fast(x) for x in range(0, 101)]\n",
    "\n",
    "# output fns\n",
    "output_vl_vals = [output_vl(x/10) for x in range(0, 31)]\n",
    "output_l_vals = [output_l(x/10) for x in range(0, 31)]\n",
    "output_m_vals = [output_m(x/10) for x in range(0, 31)]\n",
    "output_h_vals = [output_h(x/10) for x in range(0, 31)]\n",
    "output_vh_vals = [output_vh(x/10) for x in range(0, 31)]"
   ]
  },
  {
   "cell_type": "markdown",
   "id": "adbb7bd6",
   "metadata": {},
   "source": [
    "#### Plot them next to each other"
   ]
  },
  {
   "cell_type": "code",
   "execution_count": 6,
   "id": "a0a16acd",
   "metadata": {},
   "outputs": [
    {
     "data": {
      "image/png": "[encoded data removed]",
      "text/plain": [
       "<Figure size 1152x288 with 3 Axes>"
      ]
     },
     "metadata": {
      "needs_background": "light"
     },
     "output_type": "display_data"
    }
   ],
   "source": [
    "fig, (ax1, ax2, ax3) = plt.subplots(1, 3, figsize=(16,4))\n",
    "# plot distances\n",
    "ax1.set_title('Speed')\n",
    "ax1.plot(list(range(0, 51)), speed_slow_vals[:51], label='slow')\n",
    "ax1.plot(list(range(25, 76)), speed_medium_vals[25:76], label='medium')\n",
    "ax1.plot(list(range(50, 101)), speed_fast_vals[50:], label='fast')\n",
    "ax1.legend()\n",
    "\n",
    "# plot car weights\n",
    "ax2.set_title('Car weight')\n",
    "ax2.plot(list(range(0, 51)), car_weight_light_vals[:51], label='light')\n",
    "ax2.plot(list(range(25, 76)), car_weight_medium_vals[25:76], label='medium')\n",
    "ax2.plot(list(range(50, 101)), car_weight_heavy_vals[50:], label='heavy')\n",
    "ax2.legend()\n",
    "\n",
    "# plot output distance\n",
    "ax3.set_title('Distance')\n",
    "ax3.plot([x/10 for x in range(0,11)], output_vl_vals[:11], label='very low')\n",
    "ax3.plot([x/10 for x in range(5,16)], output_l_vals[5:16], label='low')\n",
    "ax3.plot([x/10 for x in range(10,21)], output_m_vals[10:21], label='medium')\n",
    "ax3.plot([x/10 for x in range(15,26)], output_h_vals[15:26], label='high')\n",
    "ax3.plot([x/10 for x in range(20,31)], output_vh_vals[20:31], label='very high')\n",
    "ax3.legend(loc='right')\n",
    "\n",
    "\n",
    "plt.show()"
   ]
  },
  {
   "cell_type": "markdown",
   "id": "40291fe3",
   "metadata": {},
   "source": [
    "## Calculate values"
   ]
  },
  {
   "cell_type": "code",
   "execution_count": 7,
   "id": "f20ba568",
   "metadata": {},
   "outputs": [],
   "source": [
    "# which distance expression matches distance value x?\n",
    "speed_val = 30\n",
    "speeds = [('slow', speed_slow), ('medium', speed_medium), ('fast', speed_fast)]\n",
    "\n",
    "# which car weight expression matches car weight value x?\n",
    "car_weight_val = 60\n",
    "car_weights = [('light', speed_slow), ('medium', speed_medium), ('heavy', speed_fast)]"
   ]
  },
  {
   "cell_type": "code",
   "execution_count": 8,
   "id": "6f91594d",
   "metadata": {},
   "outputs": [
    {
     "data": {
      "text/plain": [
       "[('slow_medium', 0.6000000000000001),\n",
       " ('slow_heavy', 0.3999999999999999),\n",
       " ('medium_medium', 0.19999999999999996),\n",
       " ('medium_heavy', 0.19999999999999996)]"
      ]
     },
     "execution_count": 8,
     "metadata": {},
     "output_type": "execute_result"
    }
   ],
   "source": [
    "inference_combinations = []\n",
    "for speed in speeds:\n",
    "    s_name = speed[0]\n",
    "    s_val = speed[1](speed_val)\n",
    "    if s_val <= 0.0:\n",
    "        continue\n",
    "    for weight in car_weights:\n",
    "        w_name = weight[0]\n",
    "        w_val = weight[1](car_weight_val)\n",
    "        if w_val <= 0.0:\n",
    "            continue\n",
    "        # we use min function to apply a and combination for fuzzy controllers\n",
    "        inference_combinations.append(('_'.join([s_name, w_name]), min(s_val, w_val)))\n",
    "\n",
    "inference_combinations"
   ]
  },
  {
   "cell_type": "markdown",
   "id": "0eca1a3b",
   "metadata": {},
   "source": [
    "## We now visualize again what we want to use for our calculation of the final result"
   ]
  },
  {
   "cell_type": "code",
   "execution_count": 9,
   "id": "f0390a81",
   "metadata": {},
   "outputs": [],
   "source": [
    "# calculate the center of gravity (numerically)\n",
    "def center_of_gravity(args):\n",
    "    '''\n",
    "    param args: list of tuples with 1) lookup value and 2) function to calc y\n",
    "    '''\n",
    "    nominator = sum([tup[0]*tup[1] for tup in args])\n",
    "    denominator = sum([tup[1] for tup in args])\n",
    "\n",
    "    return nominator / denominator"
   ]
  },
  {
   "cell_type": "code",
   "execution_count": 14,
   "id": "1a1fee03",
   "metadata": {},
   "outputs": [
    {
     "data": {
      "image/png": "[encoded data removed]",
      "text/plain": [
       "<Figure size 432x288 with 1 Axes>"
      ]
     },
     "metadata": {
      "needs_background": "light"
     },
     "output_type": "display_data"
    },
    {
     "name": "stdout",
     "output_type": "stream",
     "text": [
      "1.3472222222222217\n"
     ]
    }
   ],
   "source": [
    "colors = {'very_low': 'orange', 'low': 'blue', 'medium': 'green', 'high': 'red', 'very_high': 'purple'}\n",
    "\n",
    "plt.title('Distance')\n",
    "plt.plot([x/10 for x in range(0,11)], output_vl_vals[:11], label='very low', color=colors['very_low'])\n",
    "plt.plot([x/10 for x in range(5,16)], output_l_vals[5:16], label='low', color=colors['low'])\n",
    "plt.plot([x/10 for x in range(10,21)], output_m_vals[10:21], label='medium', color=colors['medium'])\n",
    "plt.plot([x/10 for x in range(15,26)], output_h_vals[15:26], label='high', color=colors['high'])\n",
    "plt.plot([x/10 for x in range(20,31)], output_vh_vals[20:31], label='very high', color=colors['very_high'])\n",
    "\n",
    "plt.legend(loc='right')\n",
    "\n",
    "# center of gravity\n",
    "x_vals = [x/10 for x in range(0, 31)]\n",
    "center_og_y_vals = []\n",
    "for inf_comb in inference_combinations:\n",
    "    comb_name = inf_comb[0]\n",
    "    h_val = inf_comb[1]\n",
    "    plt.axhline(y=h_val, color='black', linestyle='dashed', alpha=0.2)\n",
    "    \n",
    "    # use inference fn\n",
    "    inf_fn = rules_inf_fn[comb_name]\n",
    "    rule_result = rules[comb_name]\n",
    "    color = colors[rule_result]\n",
    "    y_vals = [min(h_val, inf_fn(x/10)) for x in range(0, 31)]\n",
    "    plt.fill_between(x_vals, y_vals, color=color)\n",
    "    \n",
    "    # add all at first\n",
    "    center_og_y_vals.append(y_vals)\n",
    "    \n",
    "    plt.axhline(y=0, color='black')\n",
    "    \n",
    "# use the center og values and always calculate the max y at the x positions (shape of the area)\n",
    "only_y_max_vals = []\n",
    "cog_tups = []\n",
    "for i, x in enumerate(x_vals):\n",
    "    y_max = max([center_og_y_vals[l][i] for l in range(0, len(center_og_y_vals))])\n",
    "    \n",
    "    cog_tups.append((x, y_max))\n",
    "\n",
    "# plot the center of gravity vertical line\n",
    "cog_val = center_of_gravity(cog_tups)\n",
    "plt.axvline(x=cog_val, color='black', linestyle='dashed')\n",
    "plt.text(x=cog_val, y=0.5, s='CoG')\n",
    "\n",
    "plt.show()\n",
    "print(cog_val)"
   ]
  },
  {
   "cell_type": "code",
   "execution_count": null,
   "id": "a7382748",
   "metadata": {},
   "outputs": [],
   "source": []
  }
 ],
 "metadata": {
  "kernelspec": {
   "display_name": "Python 3 (ipykernel)",
   "language": "python",
   "name": "python3"
  },
  "language_info": {
   "codemirror_mode": {
    "name": "ipython",
    "version": 3
   },
   "file_extension": ".py",
   "mimetype": "text/x-python",
   "name": "python",
   "nbconvert_exporter": "python",
   "pygments_lexer": "ipython3",
   "version": "3.8.8"
  }
 },
 "nbformat": 4,
 "nbformat_minor": 5
}
